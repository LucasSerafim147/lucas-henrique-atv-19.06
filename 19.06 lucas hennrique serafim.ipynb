{
 "cells": [
  {
   "cell_type": "code",
   "execution_count": 19,
   "metadata": {},
   "outputs": [],
   "source": [
    "class Animal():\n",
    "\n",
    "    def _int_(self,name,weight,color):\n",
    "        \n",
    "        self.nome = name\n",
    "        self.peso = weight\n",
    "        self.corDoPelo = color\n",
    "        \n",
    "    def imprimirDados(self):\n",
    "        return (\"Nome: %s \\npeso: %s\" %(self.nome, self.peso))\n",
    "    \n",
    "    def latir(self, barulho):\n",
    "        print(barulho)\n",
    "\n"
   ]
  },
  {
   "cell_type": "code",
   "execution_count": 35,
   "metadata": {},
   "outputs": [
    {
     "ename": "TypeError",
     "evalue": "Animal() takes no arguments",
     "output_type": "error",
     "traceback": [
      "\u001b[1;31m---------------------------------------------------------------------------\u001b[0m",
      "\u001b[1;31mTypeError\u001b[0m                                 Traceback (most recent call last)",
      "Cell \u001b[1;32mIn[35], line 1\u001b[0m\n\u001b[1;32m----> 1\u001b[0m caozinho \u001b[38;5;241m=\u001b[39m \u001b[43mAnimal\u001b[49m\u001b[43m(\u001b[49m\u001b[38;5;124;43m\"\u001b[39;49m\u001b[38;5;124;43mMarlene\u001b[39;49m\u001b[38;5;124;43m\"\u001b[39;49m\u001b[43m,\u001b[49m\u001b[43m \u001b[49m\u001b[38;5;241;43m7.9\u001b[39;49m\u001b[43m,\u001b[49m\u001b[43m \u001b[49m\u001b[38;5;124;43m\"\u001b[39;49m\u001b[38;5;124;43mCaramelo\u001b[39;49m\u001b[38;5;124;43m\"\u001b[39;49m\u001b[43m)\u001b[49m\n\u001b[0;32m      2\u001b[0m gato \u001b[38;5;241m=\u001b[39m Animal(\u001b[38;5;124m\"\u001b[39m\u001b[38;5;124mCibele\u001b[39m\u001b[38;5;124m\"\u001b[39m, \u001b[38;5;241m4.5\u001b[39m, \u001b[38;5;124m\"\u001b[39m\u001b[38;5;124mCinza\u001b[39m\u001b[38;5;124m\"\u001b[39m)\n\u001b[0;32m      4\u001b[0m \u001b[38;5;28mprint\u001b[39m(caozinho\u001b[38;5;241m.\u001b[39mimprimirDados())\n",
      "\u001b[1;31mTypeError\u001b[0m: Animal() takes no arguments"
     ]
    }
   ],
   "source": [
    "caozinho = Animal(\"Marlene\", 7.9, \"Caramelo\")\n",
    "gato = Animal(\"Cibele\", 4.5, \"Cinza\")\n",
    "\n",
    "print(caozinho.imprimirDados())\n",
    "caozinho.latir(\"Au, Au!\")\n",
    "\n",
    "print(gato.imprimirDados())\n",
    "gato.latir(\"Miau!\")"
   ]
  },
  {
   "cell_type": "code",
   "execution_count": 37,
   "metadata": {},
   "outputs": [
    {
     "ename": "TypeError",
     "evalue": "Animal() takes no arguments",
     "output_type": "error",
     "traceback": [
      "\u001b[1;31m---------------------------------------------------------------------------\u001b[0m",
      "\u001b[1;31mTypeError\u001b[0m                                 Traceback (most recent call last)",
      "Cell \u001b[1;32mIn[37], line 1\u001b[0m\n\u001b[1;32m----> 1\u001b[0m \u001b[38;5;28;43;01mclass\u001b[39;49;00m\u001b[43m \u001b[49m\u001b[38;5;21;43;01mAnimal\u001b[39;49;00m\u001b[43m(\u001b[49m\u001b[43m)\u001b[49m\u001b[43m:\u001b[49m\n\u001b[0;32m      3\u001b[0m \u001b[43m    \u001b[49m\u001b[38;5;28;43;01mdef\u001b[39;49;00m\u001b[43m \u001b[49m\u001b[38;5;21;43m__init__\u001b[39;49m\u001b[43m(\u001b[49m\u001b[38;5;28;43mself\u001b[39;49m\u001b[43m,\u001b[49m\u001b[43mname\u001b[49m\u001b[43m,\u001b[49m\u001b[43mweight\u001b[49m\u001b[43m,\u001b[49m\u001b[43mcolor\u001b[49m\u001b[43m)\u001b[49m\u001b[43m:\u001b[49m\n\u001b[0;32m      4\u001b[0m \u001b[43m        \u001b[49m\u001b[38;5;28;43mself\u001b[39;49m\u001b[38;5;241;43m.\u001b[39;49m\u001b[43mnome\u001b[49m\u001b[43m \u001b[49m\u001b[38;5;241;43m=\u001b[39;49m\u001b[43m \u001b[49m\u001b[43mname\u001b[49m\n",
      "Cell \u001b[1;32mIn[37], line 13\u001b[0m, in \u001b[0;36mAnimal\u001b[1;34m()\u001b[0m\n\u001b[0;32m     11\u001b[0m \u001b[38;5;28;01mdef\u001b[39;00m \u001b[38;5;21mlatir\u001b[39m(\u001b[38;5;28mself\u001b[39m, barulho):\n\u001b[0;32m     12\u001b[0m     \u001b[38;5;28mprint\u001b[39m(barulho)\n\u001b[1;32m---> 13\u001b[0m caozinho \u001b[38;5;241m=\u001b[39m \u001b[43mAnimal\u001b[49m\u001b[43m(\u001b[49m\u001b[38;5;124;43m\"\u001b[39;49m\u001b[38;5;124;43mMarlene\u001b[39;49m\u001b[38;5;124;43m\"\u001b[39;49m\u001b[43m,\u001b[49m\u001b[43m \u001b[49m\u001b[38;5;241;43m7.9\u001b[39;49m\u001b[43m,\u001b[49m\u001b[43m \u001b[49m\u001b[38;5;124;43m\"\u001b[39;49m\u001b[38;5;124;43mCaramelo\u001b[39;49m\u001b[38;5;124;43m\"\u001b[39;49m\u001b[43m)\u001b[49m\n\u001b[0;32m     14\u001b[0m gato \u001b[38;5;241m=\u001b[39m Animal(\u001b[38;5;124m\"\u001b[39m\u001b[38;5;124mCibele\u001b[39m\u001b[38;5;124m\"\u001b[39m, \u001b[38;5;241m4.5\u001b[39m, \u001b[38;5;124m\"\u001b[39m\u001b[38;5;124mCinza\u001b[39m\u001b[38;5;124m\"\u001b[39m)\n",
      "\u001b[1;31mTypeError\u001b[0m: Animal() takes no arguments"
     ]
    }
   ],
   "source": [
    "\n",
    "class Animal():\n",
    "\n",
    "    def __init__(self,name,weight,color):\n",
    "        self.nome = name\n",
    "        self.peso = weight\n",
    "        self.corDoPelo = color\n",
    "        \n",
    "    def imprimirDados(self):\n",
    "        return (\"Nome: %s \\npeso: %.1f\\nCor do pelo: %s\" % (self.nome, self.peso, self.corDoPelo))\n",
    "    \n",
    "    def latir(self, barulho):\n",
    "        print(barulho)\n",
    "    caozinho = Animal(\"Marlene\", 7.9, \"Caramelo\")\n",
    "    gato = Animal(\"Cibele\", 4.5, \"Cinza\")\n",
    "\n",
    "print(caozinho.imprimirDados())\n",
    "caozinho.latir(\"Au, Au!\")\n",
    "\n",
    "print(gato.imprimirDados())\n",
    "gato.latir(\"Miau!\")"
   ]
  },
  {
   "cell_type": "code",
   "execution_count": 38,
   "metadata": {},
   "outputs": [],
   "source": [
    "class Livro():\n",
    "    \n",
    "    def _init_(self):\n",
    "    \n",
    "        self.titulo = 'O Monge e o Executivo'\n",
    "        self.isbn = 9988888\n",
    "        print(\"Construtor chamado para criar um objeto desta classe\")\n",
    "    \n",
    "    def imprime(self, titulo, isbn):\n",
    "        print(\"Foi criado o livro %s e ISBN %d\" %(self.titulo, self.isbn))\n"
   ]
  },
  {
   "cell_type": "code",
   "execution_count": 39,
   "metadata": {},
   "outputs": [],
   "source": [
    "class Livro():\n",
    "    \n",
    "    def _init_(self, titulo, isbn):\n",
    "    \n",
    "        self.titulo = titulo\n",
    "        self.isbn = isbn\n",
    "        print(\"Construtor chamado para criar um objeto desta classe\")\n",
    "    \n",
    "    def imprime(self, titulo, isbn):\n",
    "        print(\"Foi criado o livro %s e ISBN %d\" %(titulo, isbn))\n"
   ]
  },
  {
   "cell_type": "code",
   "execution_count": 42,
   "metadata": {},
   "outputs": [
    {
     "ename": "TypeError",
     "evalue": "Livro() takes no arguments",
     "output_type": "error",
     "traceback": [
      "\u001b[1;31m---------------------------------------------------------------------------\u001b[0m",
      "\u001b[1;31mTypeError\u001b[0m                                 Traceback (most recent call last)",
      "Cell \u001b[1;32mIn[42], line 1\u001b[0m\n\u001b[1;32m----> 1\u001b[0m Livro2 \u001b[38;5;241m=\u001b[39m \u001b[43mLivro\u001b[49m\u001b[43m(\u001b[49m\u001b[38;5;124;43m\"\u001b[39;49m\u001b[38;5;124;43mA Menina que Roubava Livros\u001b[39;49m\u001b[38;5;124;43m\"\u001b[39;49m\u001b[43m,\u001b[49m\u001b[43m \u001b[49m\u001b[38;5;241;43m77886611\u001b[39;49m\u001b[43m)\u001b[49m\n",
      "\u001b[1;31mTypeError\u001b[0m: Livro() takes no arguments"
     ]
    }
   ],
   "source": [
    "Livro2 = Livro(\"A Menina que Roubava Livros\", 77886611)"
   ]
  },
  {
   "cell_type": "code",
   "execution_count": 41,
   "metadata": {},
   "outputs": [],
   "source": [
    "class Livro():\n",
    "    \n",
    "    def _init_(self):\n",
    "    \n",
    "        self.titulo = 'O Monge e o Executivo'\n",
    "        self.isbn = 9988888\n",
    "        print(\"Construtor chamado para criar um objeto desta classe\")\n",
    "    \n",
    "    def imprime(self, titulo, isbn):\n",
    "        print(\"Foi criado o livro %s e ISBN %d\" %(self.titulo, self.isbn))"
   ]
  }
 ],
 "metadata": {
  "kernelspec": {
   "display_name": "Python 3",
   "language": "python",
   "name": "python3"
  },
  "language_info": {
   "codemirror_mode": {
    "name": "ipython",
    "version": 3
   },
   "file_extension": ".py",
   "mimetype": "text/x-python",
   "name": "python",
   "nbconvert_exporter": "python",
   "pygments_lexer": "ipython3",
   "version": "3.11.9"
  }
 },
 "nbformat": 4,
 "nbformat_minor": 2
}
